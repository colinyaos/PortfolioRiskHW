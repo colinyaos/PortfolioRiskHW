{
 "cells": [
  {
   "cell_type": "code",
   "execution_count": 39,
   "id": "297a5500",
   "metadata": {},
   "outputs": [],
   "source": [
    "# NOTE: !!! THIS CELL SHOULD BE RUN FIRST !!!\n",
    "\n",
    "# Jupyter notebooks have a bad interaction with virtual environments: \n",
    "# they perceive the PYTHONPATH as the folder the venv was activated\n",
    "# instead of whatever the current directory of the .ipynb file is\n",
    "# so we need to incorporate this hack\n",
    "\n",
    "import sys\n",
    "\n",
    "filepath = \"/Users/colinyao/Desktop/Code/FINM/Portfolio_36700/HW/PortfolioRiskHW/HW3\"\n",
    "# change this path to whatever the path to this file is on your computer\n",
    "sys.path.append(filepath)\n",
    "\n",
    "import os\n",
    "os.chdir(filepath)"
   ]
  },
  {
   "cell_type": "code",
   "execution_count": 40,
   "id": "5470179d",
   "metadata": {},
   "outputs": [],
   "source": [
    "import pandas as pd"
   ]
  },
  {
   "cell_type": "code",
   "execution_count": 41,
   "id": "02f06dd0",
   "metadata": {},
   "outputs": [],
   "source": [
    "import numpy as np\n",
    "import pandas as pd\n",
    "from scipy.stats import norm\n",
    "\n",
    "DATA_PATH = \"data/spx_returns_weekly.xlsx\"   # uploaded file\n",
    "SHEET_NAME = \"s&p500 rets\"                        # correct sheet\n",
    "ALPHA = 0.05\n",
    "ROLL_WIN_WEEKS = 52                               # rolling vol window\n",
    "HORIZONS_WEEKS = [1, 4]                           # VaR/CVaR horizons (weeks)\n",
    "TICKERS_PREFERRED = [\"AAPL\", \"META\", \"NVDA\", \"TSLA\"]"
   ]
  },
  {
   "cell_type": "code",
   "execution_count": 42,
   "id": "9f451a6a",
   "metadata": {},
   "outputs": [],
   "source": [
    "filepath = \"/Users/colinyao/Desktop/Code/FINM/Portfolio_36700/HW/PortfolioRiskHW/HW3/data/spx_returns_weekly.xlsx\"\n",
    "ret_df = pd.read_excel(filepath, sheet_name=2, index_col=0)"
   ]
  },
  {
   "cell_type": "code",
   "execution_count": 43,
   "id": "ed2feb62",
   "metadata": {},
   "outputs": [],
   "source": [
    "instruments = ['AAPL', 'META', 'NVDA', 'TSLA']\n",
    "sel_df = ret_df[instruments]"
   ]
  },
  {
   "cell_type": "code",
   "execution_count": 44,
   "id": "6e23f136",
   "metadata": {},
   "outputs": [
    {
     "name": "stdout",
     "output_type": "stream",
     "text": [
      "Instrument AAPL: Variance 0.0014716081925336146, empirical VaR -0.056366297517849974, empirical CVaR -0.08312491891904249\n",
      "Instrument META: Variance 0.0023737852999561686, empirical VaR -0.07001167040022517, empirical CVaR -0.1031960640416827\n",
      "Instrument NVDA: Variance 0.004127520553944743, empirical VaR -0.08685282018109243, empirical CVaR -0.11645514176034043\n",
      "Instrument TSLA: Variance 0.006613492943319799, empirical VaR -0.11739730351568925, empirical CVaR -0.14781370062338312\n"
     ]
    }
   ],
   "source": [
    "# 1.1\n",
    "def compstat(series, sname):\n",
    "    variance = series.var()\n",
    "    empvar = series.quantile(0.05)\n",
    "    empcvar = series[series <= empvar].mean()\n",
    "    print(f\"Instrument {sname}: Variance {variance}, empirical VaR {empvar}, empirical CVaR {empcvar}\")\n",
    "    return (sname, variance, empvar, empcvar)\n",
    "\n",
    "csdict = {}\n",
    "for i in instruments:\n",
    "    csdict[i] = compstat(sel_df[i], i)\n",
    "pass"
   ]
  },
  {
   "cell_type": "code",
   "execution_count": 45,
   "id": "f35b7751",
   "metadata": {},
   "outputs": [
    {
     "name": "stdout",
     "output_type": "stream",
     "text": [
      "Instrument equal_weights: Variance 0.0019147546766932891, empirical VaR -0.06194990495722183, empirical CVaR -0.08499232001174674\n"
     ]
    }
   ],
   "source": [
    "# 1.2\n",
    "equiweights = pd.Series(sum((1 / len(instruments)) * sel_df[i] for i in instruments), name=\"equal_weights\")\n",
    "ew_stats = compstat(equiweights, equiweights.name)\n",
    "pass"
   ]
  },
  {
   "cell_type": "markdown",
   "id": "13d49908",
   "metadata": {},
   "source": [
    "# 1.2\n",
    "We note that the equal-weights portfolio has variance close to the minimum variance of the component instruments. Similarly, empirical VaR and empirical CVaR are close to the minimum empirical VaR and empirical CVaR of the component instruments. This is because the instruments are somewhat diversified, so the variance of their weighted sum is lesser compared to the equivalent sum of their variances, and similarly for VaR and CVaR. "
   ]
  },
  {
   "cell_type": "code",
   "execution_count": 46,
   "id": "e4a96d4a",
   "metadata": {},
   "outputs": [
    {
     "name": "stdout",
     "output_type": "stream",
     "text": [
      "Instrument equal_dropped_weights: Variance 0.0009169845136893209, empirical VaR -0.042462511580251314, empirical CVaR -0.060531130154127574\n",
      "Difference due to dropping: Variance 0.0009977701630039682, empirical VaR -0.019487393376970516, empirical CVaR -0.024461189857619164\n",
      "Stats of the most variant (scaled): Variance 0.0016533732358299498, empirical VaR -0.029349325878922312, empirical CVaR -0.03695342515584578\n"
     ]
    }
   ],
   "source": [
    "# 1.3\n",
    "most_volatile = sorted(((i, sel_df[i].var()) for i in instruments), key=lambda x: x[1], reverse=True)[0][0] # most volatile instrument\n",
    "instr_dropped = [i for i in instruments if i != most_volatile]\n",
    "equidropweights = pd.Series(sum((1 / len(instruments)) * sel_df[i] for i in instr_dropped), name=\"equal_dropped_weights\")\n",
    "ewd_stats = compstat(equidropweights, equidropweights.name)\n",
    "\n",
    "# comparison\n",
    "print(f\"Difference due to dropping: Variance {ew_stats[1] - ewd_stats[1]}, empirical VaR {ew_stats[2] - ewd_stats[2]}, empirical CVaR {ew_stats[3] - ewd_stats[3]}\")\n",
    "\n",
    "print(f\"Stats of the most variant (scaled): Variance {(1 / len(instruments)) * csdict[most_volatile][1]}, empirical VaR {(1 / len(instruments)) * csdict[most_volatile][2]}, empirical CVaR {(1 / len(instruments)) * csdict[most_volatile][3]}\")"
   ]
  },
  {
   "cell_type": "markdown",
   "id": "5c588df6",
   "metadata": {},
   "source": [
    "# 1.3\n",
    "The risk which the asset adds to the portfolio is as stated in \"Difference due to dropping\" above. Note that each of the relevant quantities is lesser in magnitude compared to the (scaled) solo asset: this is because some of the variance in the new asset (were it added to the portfolio) is diversified away by the other assets. Similarly, losses as reflected in VaR and CVaR are counterbalanced in some cases by gains in the other assets. "
   ]
  },
  {
   "cell_type": "code",
   "execution_count": 47,
   "id": "30882216",
   "metadata": {},
   "outputs": [],
   "source": [
    "# ---- load weekly returns ----\n",
    "rets = pd.read_excel(DATA_PATH, sheet_name=SHEET_NAME, index_col=0, parse_dates=True)\n",
    "\n",
    "# clean\n",
    "rets = rets.apply(pd.to_numeric, errors=\"coerce\").dropna(how=\"all\").sort_index()\n",
    "rets = rets.loc[~rets.index.duplicated(keep=\"first\")]\n",
    "\n",
    "# choose 4 tickers\n",
    "available = [t for t in TICKERS_PREFERRED if t in rets.columns]\n",
    "if len(available) < 4:\n",
    "    available = list(rets.columns[:4])\n",
    "tickers = available[:4]\n",
    "\n",
    "# subset and make equally-weighted portfolio\n",
    "rets_sel = rets[tickers].dropna(how=\"any\")\n",
    "w = np.repeat(1/len(tickers), len(tickers))\n",
    "rp = rets_sel.dot(w)\n",
    "rp.name = \"EW\"\n"
   ]
  },
  {
   "cell_type": "code",
   "execution_count": 48,
   "id": "bd255b08",
   "metadata": {},
   "outputs": [],
   "source": [
    "# 2.0 HELPERS\n",
    "\n",
    "def normal_var_cvar(sigma, alpha=0.05, mu=0.0, horizon_weeks=1):\n",
    "    \"\"\"\n",
    "    Normal VaR/CVaR at tail alpha (return units), sqrt(h) scaling.\n",
    "    VaR is alpha-quantile; CVaR is conditional mean below VaR.\n",
    "    \"\"\"\n",
    "    z = norm.ppf(alpha)\n",
    "    sig_h = sigma * np.sqrt(horizon_weeks)\n",
    "    var = mu + sig_h * z\n",
    "    cvar = mu - sig_h * norm.pdf(z) / alpha\n",
    "    return var, cvar\n",
    "\n",
    "def empirical_var_cvar(x, alpha=0.05):\n",
    "    \"\"\" Historical (empirical) VaR & CVaR for a return series x. \"\"\"\n",
    "    x = pd.Series(x).dropna()\n",
    "    var = x.quantile(alpha, interpolation=\"linear\")\n",
    "    cvar = x[x <= var].mean()\n",
    "    return var, cvar"
   ]
  },
  {
   "cell_type": "code",
   "execution_count": 49,
   "id": "233c4678",
   "metadata": {},
   "outputs": [
    {
     "name": "stdout",
     "output_type": "stream",
     "text": [
      "\n",
      "--- 2.1: Conditional (end-of-sample) stats for EW portfolio ---\n"
     ]
    },
    {
     "data": {
      "text/html": [
       "<div>\n",
       "<style scoped>\n",
       "    .dataframe tbody tr th:only-of-type {\n",
       "        vertical-align: middle;\n",
       "    }\n",
       "\n",
       "    .dataframe tbody tr th {\n",
       "        vertical-align: top;\n",
       "    }\n",
       "\n",
       "    .dataframe thead th {\n",
       "        text-align: right;\n",
       "    }\n",
       "</style>\n",
       "<table border=\"1\" class=\"dataframe\">\n",
       "  <thead>\n",
       "    <tr style=\"text-align: right;\">\n",
       "      <th></th>\n",
       "      <th>Annualized Vol (as of end)</th>\n",
       "      <th>Normal VaR 5%</th>\n",
       "      <th>Normal CVaR 5%</th>\n",
       "    </tr>\n",
       "    <tr>\n",
       "      <th>Horizon (weeks)</th>\n",
       "      <th></th>\n",
       "      <th></th>\n",
       "      <th></th>\n",
       "    </tr>\n",
       "  </thead>\n",
       "  <tbody>\n",
       "    <tr>\n",
       "      <th>1</th>\n",
       "      <td>0.363786</td>\n",
       "      <td>-0.082980</td>\n",
       "      <td>-0.10406</td>\n",
       "    </tr>\n",
       "    <tr>\n",
       "      <th>4</th>\n",
       "      <td>0.363786</td>\n",
       "      <td>-0.165959</td>\n",
       "      <td>-0.20812</td>\n",
       "    </tr>\n",
       "  </tbody>\n",
       "</table>\n",
       "</div>"
      ],
      "text/plain": [
       "                 Annualized Vol (as of end)  Normal VaR 5%  Normal CVaR 5%\n",
       "Horizon (weeks)                                                           \n",
       "1                                  0.363786      -0.082980        -0.10406\n",
       "4                                  0.363786      -0.165959        -0.20812"
      ]
     },
     "metadata": {},
     "output_type": "display_data"
    },
    {
     "name": "stdout",
     "output_type": "stream",
     "text": [
      "\n",
      "--- Comparison to static (full-sample) stats from 1.2 ---\n"
     ]
    },
    {
     "data": {
      "text/html": [
       "<div>\n",
       "<style scoped>\n",
       "    .dataframe tbody tr th:only-of-type {\n",
       "        vertical-align: middle;\n",
       "    }\n",
       "\n",
       "    .dataframe tbody tr th {\n",
       "        vertical-align: top;\n",
       "    }\n",
       "\n",
       "    .dataframe thead th {\n",
       "        text-align: right;\n",
       "    }\n",
       "</style>\n",
       "<table border=\"1\" class=\"dataframe\">\n",
       "  <thead>\n",
       "    <tr style=\"text-align: right;\">\n",
       "      <th></th>\n",
       "      <th>Weekly Vol (full sample)</th>\n",
       "      <th>Annualized Vol (full sample)</th>\n",
       "      <th>Empirical VaR 5% (full sample)</th>\n",
       "      <th>Empirical CVaR 5% (full sample)</th>\n",
       "    </tr>\n",
       "  </thead>\n",
       "  <tbody>\n",
       "    <tr>\n",
       "      <th>EW portfolio</th>\n",
       "      <td>0.043758</td>\n",
       "      <td>0.315543</td>\n",
       "      <td>-0.06195</td>\n",
       "      <td>-0.084992</td>\n",
       "    </tr>\n",
       "  </tbody>\n",
       "</table>\n",
       "</div>"
      ],
      "text/plain": [
       "              Weekly Vol (full sample)  Annualized Vol (full sample)  \\\n",
       "EW portfolio                  0.043758                      0.315543   \n",
       "\n",
       "              Empirical VaR 5% (full sample)  Empirical CVaR 5% (full sample)  \n",
       "EW portfolio                        -0.06195                        -0.084992  "
      ]
     },
     "metadata": {},
     "output_type": "display_data"
    }
   ],
   "source": [
    "# 2.1 CONDITIONAL STATS (END-OF-SAMPLE)\n",
    "\n",
    "# rolling weekly vol for EW portfolio\n",
    "roll_std_ew = rp.rolling(window=ROLL_WIN_WEEKS, min_periods=ROLL_WIN_WEEKS).std(ddof=1)\n",
    "\n",
    "# end-of-sample weekly & annualized vol\n",
    "sigma_w_end = roll_std_ew.iloc[-1]\n",
    "ann_factor_weeks = np.sqrt(52)\n",
    "sigma_ann_end = sigma_w_end * ann_factor_weeks\n",
    "\n",
    "# normal VaR/CVaR at end using rolling vol (1w & 4w)\n",
    "rows = []\n",
    "for h in HORIZONS_WEEKS:\n",
    "    var_h, cvar_h = normal_var_cvar(sigma=sigma_w_end, alpha=ALPHA, mu=0.0, horizon_weeks=h)\n",
    "    rows.append({\n",
    "        \"Horizon (weeks)\": h,\n",
    "        \"Annualized Vol (as of end)\": sigma_ann_end,\n",
    "        f\"Normal VaR {int(ALPHA*100)}%\": var_h,\n",
    "        f\"Normal CVaR {int(ALPHA*100)}%\": cvar_h\n",
    "    })\n",
    "cond_table = pd.DataFrame(rows).set_index(\"Horizon (weeks)\")\n",
    "\n",
    "# STATIC (full-sample) stats for comparison\n",
    "sigma_w_full = rp.std(ddof=1)\n",
    "sigma_ann_full = sigma_w_full * ann_factor_weeks\n",
    "var_emp, cvar_emp = empirical_var_cvar(rp, alpha=ALPHA)\n",
    "\n",
    "compare = pd.DataFrame({\n",
    "    \"Weekly Vol (full sample)\": [sigma_w_full],\n",
    "    \"Annualized Vol (full sample)\": [sigma_ann_full],\n",
    "    f\"Empirical VaR {int(ALPHA*100)}% (full sample)\": [var_emp],\n",
    "    f\"Empirical CVaR {int(ALPHA*100)}% (full sample)\": [cvar_emp]\n",
    "}, index=[\"EW portfolio\"])\n",
    "\n",
    "print(\"\\n--- 2.1: Conditional (end-of-sample) stats for EW portfolio ---\")\n",
    "display(cond_table)\n",
    "\n",
    "print(\"\\n--- Comparison to static (full-sample) stats from 1.2 ---\")\n",
    "display(compare)"
   ]
  },
  {
   "cell_type": "markdown",
   "id": "7b81718b",
   "metadata": {},
   "source": [
    "The stats from 1.2 indicate that the forecast with the normal model estimates a higher annualized vol, higher VaR, and higher CVaR than is found in the sample. "
   ]
  },
  {
   "cell_type": "code",
   "execution_count": 50,
   "id": "28ea8b51",
   "metadata": {},
   "outputs": [
    {
     "name": "stdout",
     "output_type": "stream",
     "text": [
      "\n",
      "--- 2.2: VaR hit-test results (alpha = 5%, horizon = 1 week) ---\n"
     ]
    },
    {
     "data": {
      "text/html": [
       "<div>\n",
       "<style scoped>\n",
       "    .dataframe tbody tr th:only-of-type {\n",
       "        vertical-align: middle;\n",
       "    }\n",
       "\n",
       "    .dataframe tbody tr th {\n",
       "        vertical-align: top;\n",
       "    }\n",
       "\n",
       "    .dataframe thead th {\n",
       "        text-align: right;\n",
       "    }\n",
       "</style>\n",
       "<table border=\"1\" class=\"dataframe\">\n",
       "  <thead>\n",
       "    <tr style=\"text-align: right;\">\n",
       "      <th></th>\n",
       "      <th>Hit Rate (expanding vol)</th>\n",
       "      <th>Obs (expanding)</th>\n",
       "      <th>Hit Rate (rolling vol)</th>\n",
       "      <th>Obs (rolling)</th>\n",
       "    </tr>\n",
       "  </thead>\n",
       "  <tbody>\n",
       "    <tr>\n",
       "      <th>EW portfolio</th>\n",
       "      <td>0.049815</td>\n",
       "      <td>542</td>\n",
       "      <td>0.02952</td>\n",
       "      <td>542</td>\n",
       "    </tr>\n",
       "  </tbody>\n",
       "</table>\n",
       "</div>"
      ],
      "text/plain": [
       "              Hit Rate (expanding vol)  Obs (expanding)  \\\n",
       "EW portfolio                  0.049815              542   \n",
       "\n",
       "              Hit Rate (rolling vol)  Obs (rolling)  \n",
       "EW portfolio                 0.02952            542  "
      ]
     },
     "metadata": {},
     "output_type": "display_data"
    }
   ],
   "source": [
    "# 2.2 BACKTEST: HIT RATES (1-week horizon)\n",
    "\n",
    "alpha = ALPHA\n",
    "z = norm.ppf(alpha)\n",
    "\n",
    "# Expanding weekly vol through t\n",
    "exp_std_ew = rp.expanding(min_periods=20).std(ddof=1)\n",
    "var_exp_t = z * exp_std_ew                   # VaR_t using data through t\n",
    "hits_exp = rp.shift(-1) < var_exp_t          # hit if r_{t+1} < VaR_t\n",
    "hit_rate_exp = hits_exp.dropna().mean()\n",
    "\n",
    "# Rolling weekly vol (52w window)\n",
    "var_roll_t = z * roll_std_ew\n",
    "hits_roll = rp.shift(-1) < var_roll_t\n",
    "hit_rate_roll = hits_roll.dropna().mean()\n",
    "\n",
    "bt = pd.DataFrame({\n",
    "    \"Hit Rate (expanding vol)\": [hit_rate_exp],\n",
    "    \"Obs (expanding)\": [hits_exp.dropna().shape[0]],\n",
    "    \"Hit Rate (rolling vol)\": [hit_rate_roll],\n",
    "    \"Obs (rolling)\": [hits_roll.dropna().shape[0]],\n",
    "}, index=[\"EW portfolio\"])\n",
    "\n",
    "print(\"\\n--- 2.2: VaR hit-test results (alpha = {:.0%}, horizon = 1 week) ---\".format(alpha))\n",
    "display(bt)"
   ]
  }
 ],
 "metadata": {
  "kernelspec": {
   "display_name": "finm_ipy",
   "language": "python",
   "name": "finm_ipy"
  },
  "language_info": {
   "codemirror_mode": {
    "name": "ipython",
    "version": 3
   },
   "file_extension": ".py",
   "mimetype": "text/x-python",
   "name": "python",
   "nbconvert_exporter": "python",
   "pygments_lexer": "ipython3",
   "version": "3.13.7"
  }
 },
 "nbformat": 4,
 "nbformat_minor": 5
}
