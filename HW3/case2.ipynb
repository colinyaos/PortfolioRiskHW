{
 "cells": [
  {
   "cell_type": "markdown",
   "id": "e7a69f84",
   "metadata": {},
   "source": [
    "### Data Loading"
   ]
  },
  {
   "cell_type": "code",
   "execution_count": 1,
   "id": "87e7baad",
   "metadata": {},
   "outputs": [
    {
     "data": {
      "text/html": [
       "<div>\n",
       "<style scoped>\n",
       "    .dataframe tbody tr th:only-of-type {\n",
       "        vertical-align: middle;\n",
       "    }\n",
       "\n",
       "    .dataframe tbody tr th {\n",
       "        vertical-align: top;\n",
       "    }\n",
       "\n",
       "    .dataframe thead th {\n",
       "        text-align: right;\n",
       "    }\n",
       "</style>\n",
       "<table border=\"1\" class=\"dataframe\">\n",
       "  <thead>\n",
       "    <tr style=\"text-align: right;\">\n",
       "      <th></th>\n",
       "      <th>SPX</th>\n",
       "      <th>TB1M</th>\n",
       "    </tr>\n",
       "    <tr>\n",
       "      <th>date</th>\n",
       "      <th></th>\n",
       "      <th></th>\n",
       "    </tr>\n",
       "  </thead>\n",
       "  <tbody>\n",
       "    <tr>\n",
       "      <th>1926-01-30</th>\n",
       "      <td>-0.001783</td>\n",
       "      <td>0.003061</td>\n",
       "    </tr>\n",
       "    <tr>\n",
       "      <th>1926-02-27</th>\n",
       "      <td>-0.033297</td>\n",
       "      <td>0.002612</td>\n",
       "    </tr>\n",
       "    <tr>\n",
       "      <th>1926-03-31</th>\n",
       "      <td>-0.057708</td>\n",
       "      <td>0.002601</td>\n",
       "    </tr>\n",
       "    <tr>\n",
       "      <th>1926-04-30</th>\n",
       "      <td>0.038522</td>\n",
       "      <td>0.002270</td>\n",
       "    </tr>\n",
       "    <tr>\n",
       "      <th>1926-05-28</th>\n",
       "      <td>0.013623</td>\n",
       "      <td>0.002691</td>\n",
       "    </tr>\n",
       "  </tbody>\n",
       "</table>\n",
       "</div>"
      ],
      "text/plain": [
       "                 SPX      TB1M\n",
       "date                          \n",
       "1926-01-30 -0.001783  0.003061\n",
       "1926-02-27 -0.033297  0.002612\n",
       "1926-03-31 -0.057708  0.002601\n",
       "1926-04-30  0.038522  0.002270\n",
       "1926-05-28  0.013623  0.002691"
      ]
     },
     "execution_count": 1,
     "metadata": {},
     "output_type": "execute_result"
    }
   ],
   "source": [
    "import pandas as pd\n",
    "import numpy as np\n",
    "import matplotlib.pyplot as plt\n",
    "from scipy.stats import norm\n",
    "\n",
    "# Load data\n",
    "data = pd.read_excel('data/barnstable_analysis_data.xlsx', sheet_name='data', index_col=0)\n",
    "data.index = pd.to_datetime(data.index)\n",
    "data.index.name = 'date'\n",
    "\n",
    "END_YR = 2024\n",
    "\n",
    "# Split periods\n",
    "data_1965_1999 = data[(data.index >= '1965-01-01') & (data.index <= '1999-12-31')]\n",
    "data_2000_end = data[(data.index >= '2000-01-01') & (data.index <= f'{END_YR}-12-31')]\n",
    "data_1926_end = data[(data.index >= '1926-01-01') & (data.index <= f'{END_YR}-12-31')]\n",
    "\n",
    "# view data\n",
    "data.head()"
   ]
  },
  {
   "cell_type": "markdown",
   "id": "b5fc0c68",
   "metadata": {},
   "source": [
    "### 1. Summary Statistics (Annualized)"
   ]
  },
  {
   "cell_type": "code",
   "execution_count": 2,
   "id": "63cd64a3",
   "metadata": {},
   "outputs": [
    {
     "name": "stdout",
     "output_type": "stream",
     "text": [
      "Annualized Summary Statistics\n"
     ]
    },
    {
     "data": {
      "text/html": [
       "<div>\n",
       "<style scoped>\n",
       "    .dataframe tbody tr th:only-of-type {\n",
       "        vertical-align: middle;\n",
       "    }\n",
       "\n",
       "    .dataframe tbody tr th {\n",
       "        vertical-align: top;\n",
       "    }\n",
       "\n",
       "    .dataframe thead th {\n",
       "        text-align: right;\n",
       "    }\n",
       "</style>\n",
       "<table border=\"1\" class=\"dataframe\">\n",
       "  <thead>\n",
       "    <tr style=\"text-align: right;\">\n",
       "      <th></th>\n",
       "      <th>1965–1999</th>\n",
       "      <th>2000–2024</th>\n",
       "      <th>1926–2024</th>\n",
       "    </tr>\n",
       "  </thead>\n",
       "  <tbody>\n",
       "    <tr>\n",
       "      <th>r^m mean</th>\n",
       "      <td>0.1294</td>\n",
       "      <td>0.0875</td>\n",
       "      <td>0.1155</td>\n",
       "    </tr>\n",
       "    <tr>\n",
       "      <th>r^m vol</th>\n",
       "      <td>0.1494</td>\n",
       "      <td>0.1528</td>\n",
       "      <td>0.1866</td>\n",
       "    </tr>\n",
       "    <tr>\n",
       "      <th>r^f mean</th>\n",
       "      <td>0.0615</td>\n",
       "      <td>0.0175</td>\n",
       "      <td>0.0319</td>\n",
       "    </tr>\n",
       "    <tr>\n",
       "      <th>r^f vol</th>\n",
       "      <td>0.0072</td>\n",
       "      <td>0.0056</td>\n",
       "      <td>0.0085</td>\n",
       "    </tr>\n",
       "    <tr>\n",
       "      <th>log r^m mean</th>\n",
       "      <td>0.1176</td>\n",
       "      <td>0.0756</td>\n",
       "      <td>0.0978</td>\n",
       "    </tr>\n",
       "    <tr>\n",
       "      <th>log r^m vol</th>\n",
       "      <td>0.1496</td>\n",
       "      <td>0.1538</td>\n",
       "      <td>0.1859</td>\n",
       "    </tr>\n",
       "    <tr>\n",
       "      <th>log r^f mean</th>\n",
       "      <td>0.0613</td>\n",
       "      <td>0.0174</td>\n",
       "      <td>0.0318</td>\n",
       "    </tr>\n",
       "    <tr>\n",
       "      <th>log r^f vol</th>\n",
       "      <td>0.0071</td>\n",
       "      <td>0.0055</td>\n",
       "      <td>0.0085</td>\n",
       "    </tr>\n",
       "  </tbody>\n",
       "</table>\n",
       "</div>"
      ],
      "text/plain": [
       "              1965–1999  2000–2024  1926–2024\n",
       "r^m mean         0.1294     0.0875     0.1155\n",
       "r^m vol          0.1494     0.1528     0.1866\n",
       "r^f mean         0.0615     0.0175     0.0319\n",
       "r^f vol          0.0072     0.0056     0.0085\n",
       "log r^m mean     0.1176     0.0756     0.0978\n",
       "log r^m vol      0.1496     0.1538     0.1859\n",
       "log r^f mean     0.0613     0.0174     0.0318\n",
       "log r^f vol      0.0071     0.0055     0.0085"
      ]
     },
     "metadata": {},
     "output_type": "display_data"
    }
   ],
   "source": [
    "def annual_stats(df, rf_col='TB1M', rm_col='SPX'):\n",
    "    df = df.copy()\n",
    "    df['log_rm'] = np.log1p(df[rm_col])\n",
    "    df['log_rf'] = np.log1p(df[rf_col])\n",
    "    df['excess'] = df[rm_col] - df[rf_col]\n",
    "    df['log_excess'] = df['log_rm'] - df['log_rf']\n",
    "    \n",
    "    ann_factor = 12\n",
    "    stats = {\n",
    "        'r^m mean': df[rm_col].mean()*ann_factor,\n",
    "        'r^m vol': df[rm_col].std()*np.sqrt(ann_factor),\n",
    "        'r^f mean': df[rf_col].mean()*ann_factor,\n",
    "        'r^f vol': df[rf_col].std()*np.sqrt(ann_factor),\n",
    "        'log r^m mean': df['log_rm'].mean()*ann_factor,\n",
    "        'log r^m vol': df['log_rm'].std()*np.sqrt(ann_factor),\n",
    "        'log r^f mean': df['log_rf'].mean()*ann_factor,\n",
    "        'log r^f vol': df['log_rf'].std()*np.sqrt(ann_factor),\n",
    "    }\n",
    "    return pd.Series(stats)\n",
    "\n",
    "tbl = pd.concat([\n",
    "    annual_stats(data_1965_1999),\n",
    "    annual_stats(data_2000_end),\n",
    "    annual_stats(data_1926_end)\n",
    "], axis=1)\n",
    "tbl.columns = ['1965–1999', f'2000–{END_YR}', f'1926–{END_YR}']\n",
    "\n",
    "print(\"Annualized Summary Statistics\")\n",
    "display(np.round(tbl, 4))"
   ]
  },
  {
   "cell_type": "markdown",
   "id": "06d22a14",
   "metadata": {},
   "source": [
    "### 2.1 Calculate the probability of underperformance using the subsample 1965–1999."
   ]
  },
  {
   "cell_type": "code",
   "execution_count": 3,
   "id": "cfc302bb",
   "metadata": {},
   "outputs": [
    {
     "name": "stdout",
     "output_type": "stream",
     "text": [
      "Sample Sharpe Ratio (log returns, 1965–1999): 0.110\n"
     ]
    },
    {
     "data": {
      "text/html": [
       "<div>\n",
       "<style scoped>\n",
       "    .dataframe tbody tr th:only-of-type {\n",
       "        vertical-align: middle;\n",
       "    }\n",
       "\n",
       "    .dataframe tbody tr th {\n",
       "        vertical-align: top;\n",
       "    }\n",
       "\n",
       "    .dataframe thead th {\n",
       "        text-align: right;\n",
       "    }\n",
       "</style>\n",
       "<table border=\"1\" class=\"dataframe\">\n",
       "  <thead>\n",
       "    <tr style=\"text-align: right;\">\n",
       "      <th></th>\n",
       "      <th>Horizon (years)</th>\n",
       "      <th>Probability</th>\n",
       "    </tr>\n",
       "  </thead>\n",
       "  <tbody>\n",
       "    <tr>\n",
       "      <th>0</th>\n",
       "      <td>1</td>\n",
       "      <td>0.456391</td>\n",
       "    </tr>\n",
       "    <tr>\n",
       "      <th>1</th>\n",
       "      <td>2</td>\n",
       "      <td>0.438450</td>\n",
       "    </tr>\n",
       "    <tr>\n",
       "      <th>2</th>\n",
       "      <td>3</td>\n",
       "      <td>0.424767</td>\n",
       "    </tr>\n",
       "    <tr>\n",
       "      <th>3</th>\n",
       "      <td>4</td>\n",
       "      <td>0.413301</td>\n",
       "    </tr>\n",
       "    <tr>\n",
       "      <th>4</th>\n",
       "      <td>5</td>\n",
       "      <td>0.403260</td>\n",
       "    </tr>\n",
       "    <tr>\n",
       "      <th>5</th>\n",
       "      <td>6</td>\n",
       "      <td>0.394237</td>\n",
       "    </tr>\n",
       "    <tr>\n",
       "      <th>6</th>\n",
       "      <td>7</td>\n",
       "      <td>0.385988</td>\n",
       "    </tr>\n",
       "    <tr>\n",
       "      <th>7</th>\n",
       "      <td>8</td>\n",
       "      <td>0.378357</td>\n",
       "    </tr>\n",
       "    <tr>\n",
       "      <th>8</th>\n",
       "      <td>9</td>\n",
       "      <td>0.371232</td>\n",
       "    </tr>\n",
       "    <tr>\n",
       "      <th>9</th>\n",
       "      <td>10</td>\n",
       "      <td>0.364534</td>\n",
       "    </tr>\n",
       "  </tbody>\n",
       "</table>\n",
       "</div>"
      ],
      "text/plain": [
       "   Horizon (years)  Probability\n",
       "0                1     0.456391\n",
       "1                2     0.438450\n",
       "2                3     0.424767\n",
       "3                4     0.413301\n",
       "4                5     0.403260\n",
       "5                6     0.394237\n",
       "6                7     0.385988\n",
       "7                8     0.378357\n",
       "8                9     0.371232\n",
       "9               10     0.364534"
      ]
     },
     "metadata": {},
     "output_type": "display_data"
    }
   ],
   "source": [
    "def prob_underperformance(df):\n",
    "    log_excess = np.log1p(df['SPX']) - np.log1p(df['TB1M']) # log excess returns of market over risk-free rate\n",
    "    SR = log_excess.mean() / log_excess.std()\n",
    "    h = np.arange(1, 31) # I choose a horizon of 1 to 30 years\n",
    "    p = norm.cdf(-SR * np.sqrt(h)) # formula: P(underperformance) = Φ(-SR * √h)\n",
    "    return pd.DataFrame({'Horizon (years)': h, 'Probability': p}), SR\n",
    "\n",
    "prob_df, SR_6599 = prob_underperformance(data_1965_1999)\n",
    "print(f\"Sample Sharpe Ratio (log returns, 1965–1999): {SR_6599:.3f}\")\n",
    "display(prob_df.head(10)) # display first 10 rows, notice that the probability decreases with horizon"
   ]
  },
  {
   "cell_type": "markdown",
   "id": "597b9509",
   "metadata": {},
   "source": [
    "### 2.2 Report the precise probability for (h = 15) and (h = 30) years"
   ]
  },
  {
   "cell_type": "code",
   "execution_count": 4,
   "id": "a471a235",
   "metadata": {},
   "outputs": [
    {
     "name": "stdout",
     "output_type": "stream",
     "text": [
      "Probability (h=15): 33.5707%\n",
      "Probability (h=30): 27.4279%\n"
     ]
    }
   ],
   "source": [
    "h15, h30 = 15, 30\n",
    "p15 = norm.cdf(-SR_6599 * np.sqrt(h15))\n",
    "p30 = norm.cdf(-SR_6599 * np.sqrt(h30))\n",
    "\n",
    "print(f\"Probability (h=15): {p15:.4%}\")\n",
    "print(f\"Probability (h=30): {p30:.4%}\")"
   ]
  },
  {
   "cell_type": "markdown",
   "id": "4c331e9a",
   "metadata": {},
   "source": [
    "### 2.3 Plot the probability as a function of the investment horizon, (h), for (0 < h \\le 30) years."
   ]
  },
  {
   "cell_type": "code",
   "execution_count": 5,
   "id": "edf6bf61",
   "metadata": {},
   "outputs": [
    {
     "data": {
      "image/png": "[encoded data removed]",
      "text/plain": [
       "<Figure size 800x500 with 1 Axes>"
      ]
     },
     "metadata": {},
     "output_type": "display_data"
    }
   ],
   "source": [
    "plt.figure(figsize=(8,5))\n",
    "plt.plot(prob_df['Horizon (years)'], prob_df['Probability'], marker='o', lw=2)\n",
    "plt.title('Probability of Market Underperforming Risk-Free Rate\\n(1965–1999)')\n",
    "plt.xlabel('Investment Horizon (years)')\n",
    "plt.ylabel('Probability')\n",
    "plt.grid(True, linestyle='--', alpha=0.6)\n",
    "plt.show()"
   ]
  }
 ],
 "metadata": {
  "kernelspec": {
   "display_name": "Python (finm32500)",
   "language": "python",
   "name": "finm32500"
  },
  "language_info": {
   "codemirror_mode": {
    "name": "ipython",
    "version": 3
   },
   "file_extension": ".py",
   "mimetype": "text/x-python",
   "name": "python",
   "nbconvert_exporter": "python",
   "pygments_lexer": "ipython3",
   "version": "3.13.7"
  }
 },
 "nbformat": 4,
 "nbformat_minor": 5
}
