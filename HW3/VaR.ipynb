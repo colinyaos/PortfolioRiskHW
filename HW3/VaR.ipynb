{
 "cells": [
  {
   "cell_type": "code",
   "execution_count": 19,
   "id": "46b7dcfd",
   "metadata": {},
   "outputs": [],
   "source": [
    "import numpy as np\n",
    "import pandas as pd\n",
    "from scipy.stats import norm\n",
    "\n",
    "DATA_PATH = \"data/spx_returns_weekly.xlsx\"   # uploaded file\n",
    "SHEET_NAME = \"s&p500 rets\"                        # correct sheet\n",
    "ALPHA = 0.05\n",
    "ROLL_WIN_WEEKS = 52                               # rolling vol window\n",
    "HORIZONS_WEEKS = [1, 4]                           # VaR/CVaR horizons (weeks)\n",
    "TICKERS_PREFERRED = [\"AAPL\", \"META\", \"NVDA\", \"TSLA\"]\n",
    "\n"
   ]
  },
  {
   "cell_type": "code",
   "execution_count": null,
   "id": "6575484d",
   "metadata": {},
   "outputs": [],
   "source": [
    "#1.1"
   ]
  },
  {
   "cell_type": "code",
   "execution_count": null,
   "id": "09b648ca",
   "metadata": {},
   "outputs": [],
   "source": [
    "#1.2"
   ]
  },
  {
   "cell_type": "code",
   "execution_count": null,
   "id": "81526c2c",
   "metadata": {},
   "outputs": [],
   "source": [
    "#1.3"
   ]
  },
  {
   "cell_type": "code",
   "execution_count": 25,
   "id": "c435eae7",
   "metadata": {},
   "outputs": [],
   "source": [
    "# ---- load weekly returns ----\n",
    "rets = pd.read_excel(DATA_PATH, sheet_name=SHEET_NAME, index_col=0, parse_dates=True)\n",
    "\n",
    "# clean\n",
    "rets = rets.apply(pd.to_numeric, errors=\"coerce\").dropna(how=\"all\").sort_index()\n",
    "rets = rets.loc[~rets.index.duplicated(keep=\"first\")]\n",
    "\n",
    "# choose 4 tickers\n",
    "available = [t for t in TICKERS_PREFERRED if t in rets.columns]\n",
    "if len(available) < 4:\n",
    "    available = list(rets.columns[:4])\n",
    "tickers = available[:4]\n",
    "\n",
    "# subset and make equally-weighted portfolio\n",
    "rets_sel = rets[tickers].dropna(how=\"any\")\n",
    "w = np.repeat(1/len(tickers), len(tickers))\n",
    "rp = rets_sel.dot(w)\n",
    "rp.name = \"EW\"\n"
   ]
  },
  {
   "cell_type": "code",
   "execution_count": 22,
   "id": "80133798",
   "metadata": {},
   "outputs": [],
   "source": [
    "# 2.0 HELPERS\n",
    "\n",
    "def normal_var_cvar(sigma, alpha=0.05, mu=0.0, horizon_weeks=1):\n",
    "    \"\"\"\n",
    "    Normal VaR/CVaR at tail alpha (return units), sqrt(h) scaling.\n",
    "    VaR is alpha-quantile; CVaR is conditional mean below VaR.\n",
    "    \"\"\"\n",
    "    z = norm.ppf(alpha)\n",
    "    sig_h = sigma * np.sqrt(horizon_weeks)\n",
    "    var = mu + sig_h * z\n",
    "    cvar = mu - sig_h * norm.pdf(z) / alpha\n",
    "    return var, cvar\n",
    "\n",
    "def empirical_var_cvar(x, alpha=0.05):\n",
    "    \"\"\" Historical (empirical) VaR & CVaR for a return series x. \"\"\"\n",
    "    x = pd.Series(x).dropna()\n",
    "    var = x.quantile(alpha, interpolation=\"linear\")\n",
    "    cvar = x[x <= var].mean()\n",
    "    return var, cvar"
   ]
  },
  {
   "cell_type": "code",
   "execution_count": 23,
   "id": "d9c268e7",
   "metadata": {},
   "outputs": [
    {
     "name": "stdout",
     "output_type": "stream",
     "text": [
      "\n",
      "--- 2.1: Conditional (end-of-sample) stats for EW portfolio ---\n"
     ]
    },
    {
     "data": {
      "text/html": [
       "<div>\n",
       "<style scoped>\n",
       "    .dataframe tbody tr th:only-of-type {\n",
       "        vertical-align: middle;\n",
       "    }\n",
       "\n",
       "    .dataframe tbody tr th {\n",
       "        vertical-align: top;\n",
       "    }\n",
       "\n",
       "    .dataframe thead th {\n",
       "        text-align: right;\n",
       "    }\n",
       "</style>\n",
       "<table border=\"1\" class=\"dataframe\">\n",
       "  <thead>\n",
       "    <tr style=\"text-align: right;\">\n",
       "      <th></th>\n",
       "      <th>Annualized Vol (as of end)</th>\n",
       "      <th>Normal VaR 5%</th>\n",
       "      <th>Normal CVaR 5%</th>\n",
       "    </tr>\n",
       "    <tr>\n",
       "      <th>Horizon (weeks)</th>\n",
       "      <th></th>\n",
       "      <th></th>\n",
       "      <th></th>\n",
       "    </tr>\n",
       "  </thead>\n",
       "  <tbody>\n",
       "    <tr>\n",
       "      <th>1</th>\n",
       "      <td>0.284408</td>\n",
       "      <td>-0.064873</td>\n",
       "      <td>-0.081354</td>\n",
       "    </tr>\n",
       "    <tr>\n",
       "      <th>4</th>\n",
       "      <td>0.284408</td>\n",
       "      <td>-0.129747</td>\n",
       "      <td>-0.162708</td>\n",
       "    </tr>\n",
       "  </tbody>\n",
       "</table>\n",
       "</div>"
      ],
      "text/plain": [
       "                 Annualized Vol (as of end)  Normal VaR 5%  Normal CVaR 5%\n",
       "Horizon (weeks)                                                           \n",
       "1                                  0.284408      -0.064873       -0.081354\n",
       "4                                  0.284408      -0.129747       -0.162708"
      ]
     },
     "metadata": {},
     "output_type": "display_data"
    },
    {
     "name": "stdout",
     "output_type": "stream",
     "text": [
      "\n",
      "--- Comparison to static (full-sample) stats from 1.2 ---\n"
     ]
    },
    {
     "data": {
      "text/html": [
       "<div>\n",
       "<style scoped>\n",
       "    .dataframe tbody tr th:only-of-type {\n",
       "        vertical-align: middle;\n",
       "    }\n",
       "\n",
       "    .dataframe tbody tr th {\n",
       "        vertical-align: top;\n",
       "    }\n",
       "\n",
       "    .dataframe thead th {\n",
       "        text-align: right;\n",
       "    }\n",
       "</style>\n",
       "<table border=\"1\" class=\"dataframe\">\n",
       "  <thead>\n",
       "    <tr style=\"text-align: right;\">\n",
       "      <th></th>\n",
       "      <th>Weekly Vol (full sample)</th>\n",
       "      <th>Annualized Vol (full sample)</th>\n",
       "      <th>Empirical VaR 5% (full sample)</th>\n",
       "      <th>Empirical CVaR 5% (full sample)</th>\n",
       "    </tr>\n",
       "  </thead>\n",
       "  <tbody>\n",
       "    <tr>\n",
       "      <th>EW portfolio</th>\n",
       "      <td>0.043077</td>\n",
       "      <td>0.31063</td>\n",
       "      <td>-0.062054</td>\n",
       "      <td>-0.085026</td>\n",
       "    </tr>\n",
       "  </tbody>\n",
       "</table>\n",
       "</div>"
      ],
      "text/plain": [
       "              Weekly Vol (full sample)  Annualized Vol (full sample)  \\\n",
       "EW portfolio                  0.043077                       0.31063   \n",
       "\n",
       "              Empirical VaR 5% (full sample)  Empirical CVaR 5% (full sample)  \n",
       "EW portfolio                       -0.062054                        -0.085026  "
      ]
     },
     "metadata": {},
     "output_type": "display_data"
    }
   ],
   "source": [
    "# 2.1 CONDITIONAL STATS (END-OF-SAMPLE)\n",
    "\n",
    "# rolling weekly vol for EW portfolio\n",
    "roll_std_ew = rp.rolling(window=ROLL_WIN_WEEKS, min_periods=ROLL_WIN_WEEKS).std(ddof=1)\n",
    "\n",
    "# end-of-sample weekly & annualized vol\n",
    "sigma_w_end = roll_std_ew.iloc[-1]\n",
    "ann_factor_weeks = np.sqrt(52)\n",
    "sigma_ann_end = sigma_w_end * ann_factor_weeks\n",
    "\n",
    "# normal VaR/CVaR at end using rolling vol (1w & 4w)\n",
    "rows = []\n",
    "for h in HORIZONS_WEEKS:\n",
    "    var_h, cvar_h = normal_var_cvar(sigma=sigma_w_end, alpha=ALPHA, mu=0.0, horizon_weeks=h)\n",
    "    rows.append({\n",
    "        \"Horizon (weeks)\": h,\n",
    "        \"Annualized Vol (as of end)\": sigma_ann_end,\n",
    "        f\"Normal VaR {int(ALPHA*100)}%\": var_h,\n",
    "        f\"Normal CVaR {int(ALPHA*100)}%\": cvar_h\n",
    "    })\n",
    "cond_table = pd.DataFrame(rows).set_index(\"Horizon (weeks)\")\n",
    "\n",
    "# STATIC (full-sample) stats for comparison\n",
    "sigma_w_full = rp.std(ddof=1)\n",
    "sigma_ann_full = sigma_w_full * ann_factor_weeks\n",
    "var_emp, cvar_emp = empirical_var_cvar(rp, alpha=ALPHA)\n",
    "\n",
    "compare = pd.DataFrame({\n",
    "    \"Weekly Vol (full sample)\": [sigma_w_full],\n",
    "    \"Annualized Vol (full sample)\": [sigma_ann_full],\n",
    "    f\"Empirical VaR {int(ALPHA*100)}% (full sample)\": [var_emp],\n",
    "    f\"Empirical CVaR {int(ALPHA*100)}% (full sample)\": [cvar_emp]\n",
    "}, index=[\"EW portfolio\"])\n",
    "\n",
    "print(\"\\n--- 2.1: Conditional (end-of-sample) stats for EW portfolio ---\")\n",
    "display(cond_table)\n",
    "\n",
    "print(\"\\n--- Comparison to static (full-sample) stats from 1.2 ---\")\n",
    "display(compare)"
   ]
  },
  {
   "cell_type": "code",
   "execution_count": 24,
   "id": "01d2cd73",
   "metadata": {},
   "outputs": [
    {
     "name": "stdout",
     "output_type": "stream",
     "text": [
      "\n",
      "--- 2.2: VaR hit-test results (alpha = 5%, horizon = 1 week) ---\n"
     ]
    },
    {
     "data": {
      "text/html": [
       "<div>\n",
       "<style scoped>\n",
       "    .dataframe tbody tr th:only-of-type {\n",
       "        vertical-align: middle;\n",
       "    }\n",
       "\n",
       "    .dataframe tbody tr th {\n",
       "        vertical-align: top;\n",
       "    }\n",
       "\n",
       "    .dataframe thead th {\n",
       "        text-align: right;\n",
       "    }\n",
       "</style>\n",
       "<table border=\"1\" class=\"dataframe\">\n",
       "  <thead>\n",
       "    <tr style=\"text-align: right;\">\n",
       "      <th></th>\n",
       "      <th>Hit Rate (expanding vol)</th>\n",
       "      <th>Obs (expanding)</th>\n",
       "      <th>Hit Rate (rolling vol)</th>\n",
       "      <th>Obs (rolling)</th>\n",
       "    </tr>\n",
       "  </thead>\n",
       "  <tbody>\n",
       "    <tr>\n",
       "      <th>EW portfolio</th>\n",
       "      <td>0.052314</td>\n",
       "      <td>497</td>\n",
       "      <td>0.030181</td>\n",
       "      <td>497</td>\n",
       "    </tr>\n",
       "  </tbody>\n",
       "</table>\n",
       "</div>"
      ],
      "text/plain": [
       "              Hit Rate (expanding vol)  Obs (expanding)  \\\n",
       "EW portfolio                  0.052314              497   \n",
       "\n",
       "              Hit Rate (rolling vol)  Obs (rolling)  \n",
       "EW portfolio                0.030181            497  "
      ]
     },
     "metadata": {},
     "output_type": "display_data"
    }
   ],
   "source": [
    "# 2.2 BACKTEST: HIT RATES (1-week horizon)\n",
    "\n",
    "alpha = ALPHA\n",
    "z = norm.ppf(alpha)\n",
    "\n",
    "# Expanding weekly vol through t\n",
    "exp_std_ew = rp.expanding(min_periods=20).std(ddof=1)\n",
    "var_exp_t = z * exp_std_ew                   # VaR_t using data through t\n",
    "hits_exp = rp.shift(-1) < var_exp_t          # hit if r_{t+1} < VaR_t\n",
    "hit_rate_exp = hits_exp.dropna().mean()\n",
    "\n",
    "# Rolling weekly vol (52w window)\n",
    "var_roll_t = z * roll_std_ew\n",
    "hits_roll = rp.shift(-1) < var_roll_t\n",
    "hit_rate_roll = hits_roll.dropna().mean()\n",
    "\n",
    "bt = pd.DataFrame({\n",
    "    \"Hit Rate (expanding vol)\": [hit_rate_exp],\n",
    "    \"Obs (expanding)\": [hits_exp.dropna().shape[0]],\n",
    "    \"Hit Rate (rolling vol)\": [hit_rate_roll],\n",
    "    \"Obs (rolling)\": [hits_roll.dropna().shape[0]],\n",
    "}, index=[\"EW portfolio\"])\n",
    "\n",
    "print(\"\\n--- 2.2: VaR hit-test results (alpha = {:.0%}, horizon = 1 week) ---\".format(alpha))\n",
    "display(bt)"
   ]
  }
 ],
 "metadata": {
  "kernelspec": {
   "display_name": "Python (finm32500)",
   "language": "python",
   "name": "finm32500"
  },
  "language_info": {
   "codemirror_mode": {
    "name": "ipython",
    "version": 3
   },
   "file_extension": ".py",
   "mimetype": "text/x-python",
   "name": "python",
   "nbconvert_exporter": "python",
   "pygments_lexer": "ipython3",
   "version": "3.13.7"
  }
 },
 "nbformat": 4,
 "nbformat_minor": 5
}
