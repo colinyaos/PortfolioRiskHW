{
 "cells": [
  {
   "cell_type": "code",
   "execution_count": 1,
   "id": "5470179d",
   "metadata": {},
   "outputs": [],
   "source": [
    "import pandas as pd"
   ]
  },
  {
   "cell_type": "code",
   "execution_count": 7,
   "id": "9f451a6a",
   "metadata": {},
   "outputs": [],
   "source": [
    "filepath = \"/Users/colinyao/Desktop/Code/FINM/Portfolio_36700/HW/PortfolioRiskHW/HW3/data/spx_returns_weekly.xlsx\"\n",
    "ret_df = pd.read_excel(filepath, sheet_name=2, index_col=0)"
   ]
  },
  {
   "cell_type": "code",
   "execution_count": 9,
   "id": "ed2feb62",
   "metadata": {},
   "outputs": [],
   "source": [
    "instruments = ['AAPL', 'META', 'NVDA', 'TSLA']\n",
    "sel_df = ret_df[instruments]"
   ]
  },
  {
   "cell_type": "code",
   "execution_count": 27,
   "id": "6e23f136",
   "metadata": {},
   "outputs": [
    {
     "name": "stdout",
     "output_type": "stream",
     "text": [
      "Instrument AAPL: Variance 0.0014716081925336146, empirical VaR -0.056366297517849974, empirical CVaR -0.08312491891904249\n",
      "Instrument META: Variance 0.0023737852999561686, empirical VaR -0.07001167040022517, empirical CVaR -0.1031960640416827\n",
      "Instrument NVDA: Variance 0.004127520553944743, empirical VaR -0.08685282018109243, empirical CVaR -0.11645514176034043\n",
      "Instrument TSLA: Variance 0.006613492943319799, empirical VaR -0.11739730351568925, empirical CVaR -0.14781370062338312\n"
     ]
    }
   ],
   "source": [
    "# 1.1\n",
    "def compstat(series, sname):\n",
    "    variance = series.var()\n",
    "    empvar = series.quantile(0.05)\n",
    "    empcvar = series[series <= empvar].mean()\n",
    "    print(f\"Instrument {sname}: Variance {variance}, empirical VaR {empvar}, empirical CVaR {empcvar}\")\n",
    "    return (sname, variance, empvar, empcvar)\n",
    "\n",
    "csdict = {}\n",
    "for i in instruments:\n",
    "    csdict[i] = compstat(sel_df[i], i)\n",
    "pass"
   ]
  },
  {
   "cell_type": "code",
   "execution_count": 24,
   "id": "f35b7751",
   "metadata": {},
   "outputs": [
    {
     "name": "stdout",
     "output_type": "stream",
     "text": [
      "Instrument equal_weights: Variance 0.0019147546766932891, empirical VaR -0.06194990495722183, empirical CVaR -0.08499232001174674\n"
     ]
    }
   ],
   "source": [
    "# 1.2\n",
    "equiweights = pd.Series(sum((1 / len(instruments)) * sel_df[i] for i in instruments), name=\"equal_weights\")\n",
    "ew_stats = compstat(equiweights, equiweights.name)\n",
    "pass"
   ]
  },
  {
   "cell_type": "markdown",
   "id": "13d49908",
   "metadata": {},
   "source": [
    "# 1.2\n",
    "We note that the equal-weights portfolio has variance close to the minimum variance of the component instruments. Similarly, empirical VaR and empirical CVaR are close to the minimum empirical VaR and empirical CVaR of the component instruments. This is because the instruments are somewhat diversified, so the variance of their weighted sum is lesser compared to the equivalent sum of their variances, and similarly for VaR and CVaR. "
   ]
  },
  {
   "cell_type": "code",
   "execution_count": 29,
   "id": "e4a96d4a",
   "metadata": {},
   "outputs": [
    {
     "name": "stdout",
     "output_type": "stream",
     "text": [
      "Instrument equal_dropped_weights: Variance 0.0009169845136893209, empirical VaR -0.042462511580251314, empirical CVaR -0.060531130154127574\n",
      "Difference due to dropping: Variance 0.0009977701630039682, empirical VaR -0.019487393376970516, empirical CVaR -0.024461189857619164\n",
      "Stats of the most variant (scaled): Variance 0.0016533732358299498, empirical VaR -0.029349325878922312, empirical CVaR -0.03695342515584578\n"
     ]
    }
   ],
   "source": [
    "# 1.3\n",
    "most_volatile = sorted(((i, sel_df[i].var()) for i in instruments), key=lambda x: x[1], reverse=True)[0][0] # most volatile instrument\n",
    "instr_dropped = [i for i in instruments if i != most_volatile]\n",
    "equidropweights = pd.Series(sum((1 / len(instruments)) * sel_df[i] for i in instr_dropped), name=\"equal_dropped_weights\")\n",
    "ewd_stats = compstat(equidropweights, equidropweights.name)\n",
    "\n",
    "# comparison\n",
    "print(f\"Difference due to dropping: Variance {ew_stats[1] - ewd_stats[1]}, empirical VaR {ew_stats[2] - ewd_stats[2]}, empirical CVaR {ew_stats[3] - ewd_stats[3]}\")\n",
    "\n",
    "print(f\"Stats of the most variant (scaled): Variance {(1 / len(instruments)) * csdict[most_volatile][1]}, empirical VaR {(1 / len(instruments)) * csdict[most_volatile][2]}, empirical CVaR {(1 / len(instruments)) * csdict[most_volatile][3]}\")"
   ]
  },
  {
   "cell_type": "markdown",
   "id": "5c588df6",
   "metadata": {},
   "source": [
    "# 1.3\n",
    "The risk which the asset adds to the portfolio is as stated in \"Difference due to dropping\" above. Note that each of the relevant quantities is lesser in magnitude compared to the (scaled) solo asset: this is because some of the variance in the new asset (were it added to the portfolio) is diversified away by the other assets. Similarly, losses as reflected in VaR and CVaR are counterbalanced in some cases by gains in the other assets. "
   ]
  }
 ],
 "metadata": {
  "kernelspec": {
   "display_name": "finm_ipy",
   "language": "python",
   "name": "finm_ipy"
  },
  "language_info": {
   "codemirror_mode": {
    "name": "ipython",
    "version": 3
   },
   "file_extension": ".py",
   "mimetype": "text/x-python",
   "name": "python",
   "nbconvert_exporter": "python",
   "pygments_lexer": "ipython3",
   "version": "3.13.7"
  }
 },
 "nbformat": 4,
 "nbformat_minor": 5
}
